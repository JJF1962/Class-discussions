{
 "cells": [
  {
   "cell_type": "code",
   "execution_count": 1,
   "id": "987c3668",
   "metadata": {},
   "outputs": [],
   "source": [
    "# Add Matplotlib inline magic command\n",
    "%matplotlib inline\n",
    "# Dependencies and Setup\n",
    "import matplotlib.pyplot as plt\n",
    "import pandas as pd\n",
    "\n",
    "# File to Load (Remember to change these)\n",
    "CTA_list_of_L_stops_to_load = \"CTA_list_of_L_stops.csv\"\n",
    "CTA_ridership_daily_totals_to_load = \"CTA_ridership_daily_totals.csv\"\n",
    "\n",
    "# Read the City and Ride Data\n",
    "CTA_list_of_L_stops_df = pd.read_csv(CTA_list_of_L_stops_to_load)\n",
    "CTA_ridership_daily_totals_df = pd.read_csv(CTA_ridership_daily_totals_to_load)"
   ]
  },
  {
   "cell_type": "code",
   "execution_count": 4,
   "id": "b025a6e0",
   "metadata": {
    "scrolled": true
   },
   "outputs": [
    {
     "ename": "SyntaxError",
     "evalue": "EOL while scanning string literal (conda_tmp/ipykernel_17748/2527315776.py, line 1)",
     "output_type": "error",
     "traceback": [
      "\u001b[1;36m  File \u001b[1;32m\"C:\\conda_tmp/ipykernel_17748/2527315776.py\"\u001b[1;36m, line \u001b[1;32m1\u001b[0m\n\u001b[1;33m    CTA_data_df['stops'] = pd.to_datetime(ride_data_df['stops'])                                                                          '])\u001b[0m\n\u001b[1;37m                                                                                                                                             ^\u001b[0m\n\u001b[1;31mSyntaxError\u001b[0m\u001b[1;31m:\u001b[0m EOL while scanning string literal\n"
     ]
    }
   ],
   "source": [
    "CTA_data_df['stops'] = pd.to_datetime(ride_data_df['stops'])                                                                          '])"
   ]
  },
  {
   "cell_type": "code",
   "execution_count": null,
   "id": "b7542739",
   "metadata": {},
   "outputs": [],
   "source": [
    "import pandas as pd\n",
    "# Combine the data into a single dataset\n",
    "pyber_data_df = pd.merge(CTA_list_of_L_shops_DF, CTA_ridership_daily_totals_df, how=\"left\", on=[\"stationname\", \"Station_Name\"])\n",
    "\n",
    "# Display the data table for preview\n",
    "pyber_data_df.head()"
   ]
  },
  {
   "cell_type": "code",
   "execution_count": null,
   "id": "f2531ece",
   "metadata": {},
   "outputs": [],
   "source": []
  }
 ],
 "metadata": {
  "kernelspec": {
   "display_name": "PythonData",
   "language": "python",
   "name": "pythondata"
  },
  "language_info": {
   "codemirror_mode": {
    "name": "ipython",
    "version": 3
   },
   "file_extension": ".py",
   "mimetype": "text/x-python",
   "name": "python",
   "nbconvert_exporter": "python",
   "pygments_lexer": "ipython3",
   "version": "3.9.7"
  }
 },
 "nbformat": 4,
 "nbformat_minor": 5
}
